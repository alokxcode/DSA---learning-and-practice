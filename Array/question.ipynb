{
 "cells": [
  {
   "cell_type": "markdown",
   "id": "6868b735",
   "metadata": {},
   "source": [
    "1. Check Palindrome"
   ]
  },
  {
   "cell_type": "code",
   "execution_count": 16,
   "id": "0bdac965",
   "metadata": {},
   "outputs": [
    {
     "name": "stdout",
     "output_type": "stream",
     "text": [
      "121\n"
     ]
    },
    {
     "data": {
      "text/plain": [
       "'true'"
      ]
     },
     "execution_count": 16,
     "metadata": {},
     "output_type": "execute_result"
    }
   ],
   "source": [
    "class Solution(object):\n",
    "    def isPalindrome(self, x):\n",
    "        \"\"\"\n",
    "        :type x: int\n",
    "        :rtype: bool\n",
    "        \"\"\"\n",
    "        input = x\n",
    "        num = input\n",
    "        result = 0\n",
    "        while num>0:\n",
    "            ld = num%10\n",
    "            result = result * 10 + ld\n",
    "            num = num//10\n",
    "        print(result)\n",
    "        if result == input:\n",
    "            return 'true'\n",
    "        else:\n",
    "            return 'false'\n",
    "        \n",
    "a = Solution()\n",
    "a.isPalindrome(121)"
   ]
  },
  {
   "cell_type": "markdown",
   "id": "bf1a51cc",
   "metadata": {},
   "source": [
    "2. Convert Roman to Integer"
   ]
  },
  {
   "cell_type": "code",
   "execution_count": 17,
   "id": "86fb5011",
   "metadata": {},
   "outputs": [
    {
     "data": {
      "text/plain": [
       "12"
      ]
     },
     "execution_count": 17,
     "metadata": {},
     "output_type": "execute_result"
    }
   ],
   "source": [
    "class Solution(object):\n",
    "    def romanToInt(self, s):\n",
    "        \"\"\"\n",
    "        :type s: str\n",
    "        :rtype: int\n",
    "        \"\"\"\n",
    "        roman = s\n",
    "        result = 0\n",
    "        previous = 4000\n",
    "        for i in roman:\n",
    "            if i == 'I':\n",
    "                i = 1\n",
    "            elif i == 'V':\n",
    "                i = 5\n",
    "            elif i == 'X':\n",
    "                i = 10\n",
    "            elif i == 'L':\n",
    "                i = 50\n",
    "            elif i == 'C':\n",
    "                i = 100\n",
    "            elif i == 'D':\n",
    "                i = 500\n",
    "            elif i == 'M':\n",
    "                i = 1000\n",
    "            else:\n",
    "                return False\n",
    "            \n",
    "            if i <= previous:\n",
    "                previous = i\n",
    "                result = result + i\n",
    "            else:\n",
    "                result = (result - previous) + (i - previous)\n",
    "        return result   \n",
    "a = Solution()\n",
    "a.romanToInt('XII')"
   ]
  },
  {
   "cell_type": "code",
   "execution_count": null,
   "id": "dda68ccf",
   "metadata": {},
   "outputs": [],
   "source": []
  }
 ],
 "metadata": {
  "kernelspec": {
   "display_name": "base",
   "language": "python",
   "name": "python3"
  },
  "language_info": {
   "codemirror_mode": {
    "name": "ipython",
    "version": 3
   },
   "file_extension": ".py",
   "mimetype": "text/x-python",
   "name": "python",
   "nbconvert_exporter": "python",
   "pygments_lexer": "ipython3",
   "version": "3.13.5"
  }
 },
 "nbformat": 4,
 "nbformat_minor": 5
}
