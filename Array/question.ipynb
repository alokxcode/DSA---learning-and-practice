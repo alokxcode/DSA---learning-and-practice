{
 "cells": [
  {
   "cell_type": "markdown",
   "id": "6868b735",
   "metadata": {},
   "source": [
    "Check Palindrome"
   ]
  },
  {
   "cell_type": "code",
   "execution_count": 16,
   "id": "0bdac965",
   "metadata": {},
   "outputs": [
    {
     "name": "stdout",
     "output_type": "stream",
     "text": [
      "121\n"
     ]
    },
    {
     "data": {
      "text/plain": [
       "'true'"
      ]
     },
     "execution_count": 16,
     "metadata": {},
     "output_type": "execute_result"
    }
   ],
   "source": [
    "class Solution(object):\n",
    "    def isPalindrome(self, x):\n",
    "        \"\"\"\n",
    "        :type x: int\n",
    "        :rtype: bool\n",
    "        \"\"\"\n",
    "        input = x\n",
    "        num = input\n",
    "        result = 0\n",
    "        while num>0:\n",
    "            ld = num%10\n",
    "            result = result * 10 + ld\n",
    "            num = num//10\n",
    "        print(result)\n",
    "        if result == input:\n",
    "            return 'true'\n",
    "        else:\n",
    "            return 'false'\n",
    "        \n",
    "a = Solution()\n",
    "a.isPalindrome(121)"
   ]
  },
  {
   "cell_type": "code",
   "execution_count": null,
   "id": "6d71e06e",
   "metadata": {},
   "outputs": [],
   "source": []
  }
 ],
 "metadata": {
  "kernelspec": {
   "display_name": "base",
   "language": "python",
   "name": "python3"
  },
  "language_info": {
   "codemirror_mode": {
    "name": "ipython",
    "version": 3
   },
   "file_extension": ".py",
   "mimetype": "text/x-python",
   "name": "python",
   "nbconvert_exporter": "python",
   "pygments_lexer": "ipython3",
   "version": "3.13.5"
  }
 },
 "nbformat": 4,
 "nbformat_minor": 5
}
