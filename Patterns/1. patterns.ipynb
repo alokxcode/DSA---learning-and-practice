{
 "cells": [
  {
   "cell_type": "markdown",
   "id": "be00b615",
   "metadata": {},
   "source": [
    "# Patterns"
   ]
  },
  {
   "cell_type": "markdown",
   "id": "bf69b79d",
   "metadata": {},
   "source": [
    "Step 1. For the outer loops, count the number of lines.\n",
    "\n",
    "Step 2. For the inner loop, focus on the columns and connect them somehow to the rows.\n",
    "\n",
    "Step 3. Print them inside the inner for loop.\n",
    "\n",
    "Step 4. Observe Symettery [optional]."
   ]
  },
  {
   "cell_type": "code",
   "execution_count": 5,
   "id": "efd592f5",
   "metadata": {},
   "outputs": [
    {
     "name": "stdout",
     "output_type": "stream",
     "text": [
      "* * * * * \n",
      "\n",
      "* * * * * \n",
      "\n",
      "* * * * * \n",
      "\n",
      "* * * * * \n",
      "\n",
      "* * * * * \n",
      "\n"
     ]
    }
   ],
   "source": [
    "for i in range(0,5):\n",
    "    for j in range(0,5):\n",
    "        print('*', end=' ')\n",
    "    print('\\n')"
   ]
  },
  {
   "cell_type": "code",
   "execution_count": 15,
   "id": "45228ff3",
   "metadata": {},
   "outputs": [
    {
     "name": "stdout",
     "output_type": "stream",
     "text": [
      "*\n",
      "**\n",
      "***\n",
      "****\n",
      "*****\n"
     ]
    }
   ],
   "source": [
    "for i in range(1,6):\n",
    "        print(i*'*')"
   ]
  },
  {
   "cell_type": "code",
   "execution_count": 26,
   "id": "f617a745",
   "metadata": {},
   "outputs": [
    {
     "name": "stdout",
     "output_type": "stream",
     "text": [
      "1\n",
      "\n",
      "12\n",
      "\n",
      "123\n",
      "\n",
      "1234\n",
      "\n",
      "12345\n",
      "\n"
     ]
    }
   ],
   "source": [
    "for i in range(1,6):\n",
    "    for j in range(1,i+1):\n",
    "        print(j, end='')\n",
    "    print('\\n')"
   ]
  },
  {
   "cell_type": "code",
   "execution_count": 27,
   "id": "ff05d2db",
   "metadata": {},
   "outputs": [
    {
     "name": "stdout",
     "output_type": "stream",
     "text": [
      "1\n",
      "\n",
      "22\n",
      "\n",
      "333\n",
      "\n",
      "4444\n",
      "\n",
      "55555\n",
      "\n"
     ]
    }
   ],
   "source": [
    "for i in range(1,6):\n",
    "    for j in range(1,i+1):\n",
    "        print(i,end='')\n",
    "    print('\\n')"
   ]
  },
  {
   "cell_type": "code",
   "execution_count": 33,
   "id": "3f040034",
   "metadata": {},
   "outputs": [
    {
     "name": "stdout",
     "output_type": "stream",
     "text": [
      "*****\n",
      "\n",
      "****\n",
      "\n",
      "***\n",
      "\n",
      "**\n",
      "\n",
      "*\n",
      "\n"
     ]
    }
   ],
   "source": [
    "for i in range(5,0,-1):\n",
    "    for j in range(i):\n",
    "        print('*',end='')\n",
    "    print('\\n')"
   ]
  },
  {
   "cell_type": "code",
   "execution_count": 35,
   "id": "ca6246be",
   "metadata": {},
   "outputs": [
    {
     "name": "stdout",
     "output_type": "stream",
     "text": [
      "12345\n",
      "\n",
      "1234\n",
      "\n",
      "123\n",
      "\n",
      "12\n",
      "\n",
      "1\n",
      "\n"
     ]
    }
   ],
   "source": [
    "for i in range(5,0,-1):\n",
    "    for j in range(1,i+1):\n",
    "        print(j,end='')\n",
    "    print('\\n')"
   ]
  },
  {
   "cell_type": "code",
   "execution_count": null,
   "id": "b5c16f85",
   "metadata": {},
   "outputs": [
    {
     "name": "stdout",
     "output_type": "stream",
     "text": [
      "     *\n",
      "    **\n",
      "   ***\n",
      "  ****\n",
      " *****\n"
     ]
    }
   ],
   "source": [
    "count = 1\n",
    "for i in range(5,0,-1):\n",
    "    for j in range(i):\n",
    "        print(' ',end='')\n",
    "    print(count*'*')\n",
    "    count = count+1\n",
    "    "
   ]
  },
  {
   "cell_type": "code",
   "execution_count": 72,
   "id": "d92f5bdb",
   "metadata": {},
   "outputs": [
    {
     "name": "stdout",
     "output_type": "stream",
     "text": [
      "     *\n",
      "    ***\n",
      "   *****\n",
      "  *******\n",
      " *********\n"
     ]
    }
   ],
   "source": [
    "count = 1\n",
    "for i in range(5,0,-1):\n",
    "    for j in range(i):\n",
    "        print(' ',end='')\n",
    "    print(count*'*')\n",
    "    count = count + 2\n",
    "\n"
   ]
  },
  {
   "cell_type": "code",
   "execution_count": null,
   "id": "040ed3f0",
   "metadata": {},
   "outputs": [
    {
     "name": "stdout",
     "output_type": "stream",
     "text": [
      " *********\n",
      "  *******\n",
      "   *****\n",
      "    ***\n",
      "     *\n"
     ]
    }
   ],
   "source": [
    "count = 9\n",
    "for i in range(1,6):\n",
    "    for j in range(i):\n",
    "        print(' ',end='')\n",
    "    print(count*'*')\n",
    "    count = count - 2"
   ]
  },
  {
   "cell_type": "code",
   "execution_count": 80,
   "id": "5df933d0",
   "metadata": {},
   "outputs": [
    {
     "name": "stdout",
     "output_type": "stream",
     "text": [
      "     *\n",
      "    ***\n",
      "   *****\n",
      "  *******\n",
      " *********\n",
      " *********\n",
      "  *******\n",
      "   *****\n",
      "    ***\n",
      "     *\n"
     ]
    }
   ],
   "source": [
    "count = 1\n",
    "for i in range(5,0,-1):\n",
    "    for j in range(i):\n",
    "        print(' ',end='')\n",
    "    print(count*'*')\n",
    "    count = count + 2\n",
    "count = 9\n",
    "for i in range(1,6):\n",
    "    for j in range(i):\n",
    "        print(' ',end='')\n",
    "    print(count*'*')\n",
    "    count = count - 2"
   ]
  },
  {
   "cell_type": "code",
   "execution_count": 84,
   "id": "42a22bae",
   "metadata": {},
   "outputs": [
    {
     "name": "stdout",
     "output_type": "stream",
     "text": [
      "*\n",
      "**\n",
      "***\n",
      "****\n",
      "*****\n",
      "****\n",
      "***\n",
      "**\n",
      "*\n"
     ]
    }
   ],
   "source": [
    "for i in range(1,6):\n",
    "    print(i*'*')\n",
    "for i in range(4,0,-1):\n",
    "    print(i*'*')"
   ]
  },
  {
   "cell_type": "code",
   "execution_count": 97,
   "id": "f3194188",
   "metadata": {},
   "outputs": [
    {
     "name": "stdout",
     "output_type": "stream",
     "text": [
      "1\n",
      "\n",
      "01\n",
      "\n",
      "101\n",
      "\n",
      "0101\n",
      "\n",
      "10101\n",
      "\n"
     ]
    }
   ],
   "source": [
    "for i in range(1,6):\n",
    "    for j in range(i,0,-1):\n",
    "        if j%2 == 0:\n",
    "            print('0', end='')\n",
    "        else:\n",
    "            print('1', end='')\n",
    "    print('\\n')"
   ]
  },
  {
   "cell_type": "code",
   "execution_count": 111,
   "id": "648c1f11",
   "metadata": {},
   "outputs": [
    {
     "name": "stdout",
     "output_type": "stream",
     "text": [
      "1      1\n",
      "\n",
      "12    21\n",
      "\n",
      "123  321\n",
      "\n",
      "12344321\n",
      "\n"
     ]
    }
   ],
   "source": [
    "space = 6\n",
    "for i in range(1,5):\n",
    "    for j in range(1,i+1):\n",
    "        print(j,end='')\n",
    "    print(space*' ',end='')\n",
    "    for k in range(j,0,-1):\n",
    "        print(k,end='')\n",
    "    print('\\n')\n",
    "    space = space -2\n"
   ]
  },
  {
   "cell_type": "code",
   "execution_count": 117,
   "id": "d52a7bbf",
   "metadata": {},
   "outputs": [
    {
     "name": "stdout",
     "output_type": "stream",
     "text": [
      "1\n",
      "\n",
      "23\n",
      "\n",
      "456\n",
      "\n",
      "78910\n",
      "\n",
      "1112131415\n",
      "\n"
     ]
    }
   ],
   "source": [
    "num =1\n",
    "for i in range(1,6):\n",
    "    for j in range(1,i+1):\n",
    "        print(num,end='')\n",
    "        num = num+1\n",
    "    print('\\n')"
   ]
  },
  {
   "cell_type": "code",
   "execution_count": 126,
   "id": "72d90753",
   "metadata": {},
   "outputs": [
    {
     "name": "stdout",
     "output_type": "stream",
     "text": [
      "A\n",
      "\n",
      "AB\n",
      "\n",
      "ABC\n",
      "\n",
      "ABCD\n",
      "\n",
      "ABCDE\n",
      "\n"
     ]
    }
   ],
   "source": [
    "char = 'A'\n",
    "for i in range(1,6):\n",
    "    for j in range(i):\n",
    "        print(chr(ord(char)+j),end='')\n",
    "    print('\\n')\n"
   ]
  },
  {
   "cell_type": "code",
   "execution_count": 128,
   "id": "c8986344",
   "metadata": {},
   "outputs": [
    {
     "name": "stdout",
     "output_type": "stream",
     "text": [
      "ABCDE\n",
      "\n",
      "ABCD\n",
      "\n",
      "ABC\n",
      "\n",
      "AB\n",
      "\n",
      "A\n",
      "\n"
     ]
    }
   ],
   "source": [
    "for i in range(5,0,-1):\n",
    "    for j in range(i):\n",
    "        print(chr(ord(char) + j),end='')\n",
    "    print('\\n')"
   ]
  },
  {
   "cell_type": "code",
   "execution_count": 132,
   "id": "b18c0b83",
   "metadata": {},
   "outputs": [
    {
     "name": "stdout",
     "output_type": "stream",
     "text": [
      "A\n",
      "\n",
      "BB\n",
      "\n",
      "CCC\n",
      "\n",
      "DDDD\n",
      "\n",
      "EEEEE\n",
      "\n"
     ]
    }
   ],
   "source": [
    "for i in range(5):\n",
    "    for j in range(i+1):\n",
    "        print(chr(ord(char) + i),end='')\n",
    "    print('\\n')"
   ]
  },
  {
   "cell_type": "code",
   "execution_count": 63,
   "id": "aa14e5de",
   "metadata": {},
   "outputs": [
    {
     "name": "stdout",
     "output_type": "stream",
     "text": [
      "    A\n",
      "\n",
      "   ABA\n",
      "\n",
      "  ABCBA\n",
      "\n",
      " ABCDCBA\n",
      "\n",
      "ABCDEDCBA\n",
      "\n"
     ]
    }
   ],
   "source": [
    "n = 5\n",
    "char = 'A'\n",
    "for i in range(n):\n",
    "    for line in range(1):\n",
    "        print((n-i-1)*' ',end='')\n",
    "    for j in range(i):\n",
    "        print(chr(ord(char) + j),end='')\n",
    "    for k in range(i,0-1,-1):\n",
    "        print(chr(ord(char) + k),end='')\n",
    "    print('\\n')\n",
    "    \n",
    "\n"
   ]
  },
  {
   "cell_type": "code",
   "execution_count": 73,
   "id": "b0ddff65",
   "metadata": {},
   "outputs": [
    {
     "name": "stdout",
     "output_type": "stream",
     "text": [
      "E\n",
      "\n",
      "DE\n",
      "\n",
      "CDE\n",
      "\n",
      "BCDE\n",
      "\n",
      "ABCDE\n",
      "\n"
     ]
    }
   ],
   "source": [
    "n = 5\n",
    "char= 'E'\n",
    "for i in range(n):\n",
    "    for j in range(i,0-1,-1):\n",
    "        print(chr(ord(char) - j),end='')\n",
    "    print('\\n')"
   ]
  },
  {
   "cell_type": "code",
   "execution_count": null,
   "id": "4d42f6ec",
   "metadata": {},
   "outputs": [
    {
     "name": "stdout",
     "output_type": "stream",
     "text": [
      "**********\n",
      "****  ****\n",
      "***    ***\n",
      "**      **\n",
      "*        *\n",
      "*        *\n",
      "**      **\n",
      "***    ***\n",
      "****  ****\n",
      "**********\n"
     ]
    }
   ],
   "source": [
    "# new approach\n",
    "n = 5\n",
    "for i in range(n,0,-1):\n",
    "    print(i*\"*\" + (n-i)*\"  \" + i*'*')\n",
    "for i in range(1,n+1):\n",
    "    print(i*'*' + (n-i)*'  ' + i*'*')\n",
    "\n",
    "# n = 10\n",
    "\n",
    "# for i in range(5):\n",
    "#     half = int(n/2)\n",
    "#     while i <= (half - 1):\n",
    "#         print((half - i)*'*',end='')\n",
    "#         break\n",
    "#     while i<= (half-1):\n",
    "#         print(i*'  ',end='')\n",
    "#         break\n",
    "#     while i<= (half-1):\n",
    "#         print((half - i)*'*',end='')\n",
    "#         break\n",
    "#     print('\\n')\n",
    "\n",
    "# for i in range(5):\n",
    "#     half = int(n/2)\n",
    "#     while i <= (half - 1):\n",
    "#         print((i+1)*'*',end='')\n",
    "#         break\n",
    "#     while i<= (half-1):\n",
    "#         print((half - i-1)*'  ',end='')\n",
    "#         break\n",
    "#     while i<= (half-1):\n",
    "#         print((i+1)*'*',end='')\n",
    "#         break\n",
    "#     print('\\n')\n",
    "\n"
   ]
  },
  {
   "cell_type": "code",
   "execution_count": 114,
   "id": "f6cb1c53",
   "metadata": {},
   "outputs": [
    {
     "name": "stdout",
     "output_type": "stream",
     "text": [
      "*        *\n",
      "**      **\n",
      "***    ***\n",
      "****  ****\n",
      "**********\n",
      "****  ****\n",
      "***    ***\n",
      "**      **\n",
      "*        *\n"
     ]
    }
   ],
   "source": [
    "n=5 \n",
    "for i in range(1,n+1):\n",
    "    print(i*\"*\" + (n-i)*'  ' + i*\"*\")\n",
    "for i in range(n-1,0,-1):\n",
    "    print((i)*'*' + (n-i)*\"  \" + i*\"*\")"
   ]
  },
  {
   "cell_type": "code",
   "execution_count": 122,
   "id": "fda1df5e",
   "metadata": {},
   "outputs": [
    {
     "name": "stdout",
     "output_type": "stream",
     "text": [
      "****\n",
      "*  *\n",
      "*  *\n",
      "****\n"
     ]
    }
   ],
   "source": [
    "n = 2\n",
    "for i in range(n,0,-1):\n",
    "    print(i*'*' + (n-i)*'  ' + i*'*') \n",
    "for i in range(1,n+1):\n",
    "    print(i*'*' + (n-i)*'  ' + i*'*')"
   ]
  },
  {
   "cell_type": "code",
   "execution_count": null,
   "id": "3138bafd",
   "metadata": {},
   "outputs": [
    {
     "name": "stdout",
     "output_type": "stream",
     "text": [
      "4444444\n",
      "\n",
      "4333334\n",
      "\n",
      "4322234\n",
      "\n",
      "4321234\n",
      "\n",
      "4322234\n",
      "\n",
      "4333334\n",
      "\n",
      "4444444\n",
      "\n"
     ]
    }
   ],
   "source": [
    "n= 4\n",
    "max_count = n + 1\n",
    "for i in range(n-1):\n",
    "    for j in range(i+1):\n",
    "        print(n-j,end='')\n",
    "    for k in range(1):\n",
    "        print(str(n-i)*max_count, end='')\n",
    "        max_count = max_count - 2\n",
    "    for l in range(i,0-1,-1):\n",
    "        print(n-l,end='')\n",
    "    print('\\n')\n",
    "\n",
    "for i in range(n):\n",
    "    print(n-i,end='')\n",
    "for j in range(2,n+1):\n",
    "    print(j,end='')\n",
    "print('\\n')\n",
    "max_count = 1\n",
    "for i in range(n-1,0,-1):\n",
    "    for j in range(i):\n",
    "        print(n-j,end='')\n",
    "    for k in range(1):\n",
    "        print(str(n-i + 1)*max_count, end='')\n",
    "        max_count = max_count + 2\n",
    "    for l in range(i-1,0-1,-1):\n",
    "        print(n-l,end='')\n",
    "    print('\\n')\n",
    "\n"
   ]
  },
  {
   "cell_type": "code",
   "execution_count": 11,
   "id": "e2c09fef",
   "metadata": {},
   "outputs": [
    {
     "name": "stdout",
     "output_type": "stream",
     "text": [
      "555555555\n",
      "544444445\n",
      "543333345\n",
      "543222345\n",
      "543212345\n",
      "543222345\n",
      "543333345\n",
      "544444445\n",
      "555555555\n"
     ]
    }
   ],
   "source": [
    "# new approach\n",
    "\n",
    "n = 5\n",
    "size = 2*n - 1\n",
    "\n",
    "for i in range(size):\n",
    "    for j in range(size):\n",
    "        min_dict = min(i,j,size - i - 1, size - j - 1)\n",
    "        print(n - min_dict, end='')\n",
    "    print()\n",
    "\n"
   ]
  },
  {
   "cell_type": "code",
   "execution_count": null,
   "id": "7688bfc0",
   "metadata": {},
   "outputs": [],
   "source": []
  }
 ],
 "metadata": {
  "kernelspec": {
   "display_name": "base",
   "language": "python",
   "name": "python3"
  },
  "language_info": {
   "codemirror_mode": {
    "name": "ipython",
    "version": 3
   },
   "file_extension": ".py",
   "mimetype": "text/x-python",
   "name": "python",
   "nbconvert_exporter": "python",
   "pygments_lexer": "ipython3",
   "version": "3.13.5"
  }
 },
 "nbformat": 4,
 "nbformat_minor": 5
}
