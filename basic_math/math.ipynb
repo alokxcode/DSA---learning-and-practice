{
 "cells": [
  {
   "cell_type": "markdown",
   "id": "688d1311",
   "metadata": {},
   "source": [
    "1. Count the Digit"
   ]
  },
  {
   "cell_type": "code",
   "execution_count": 20,
   "id": "9687bc3d",
   "metadata": {},
   "outputs": [
    {
     "name": "stdout",
     "output_type": "stream",
     "text": [
      "3\n"
     ]
    }
   ],
   "source": [
    "n = 106\n",
    "count = 0\n",
    "while n != 0:\n",
    "    count = count + 1\n",
    "    n = n//10\n",
    "print(count)"
   ]
  },
  {
   "cell_type": "markdown",
   "id": "c1ae5572",
   "metadata": {},
   "source": [
    "2. Reverse a number"
   ]
  },
  {
   "cell_type": "code",
   "execution_count": 23,
   "id": "ac015f03",
   "metadata": {},
   "outputs": [
    {
     "name": "stdout",
     "output_type": "stream",
     "text": [
      "321\n"
     ]
    }
   ],
   "source": [
    "num = 123\n",
    "reversed_num = 0\n",
    "while num > 0 :\n",
    "    last_digit = num%10\n",
    "    reversed_num = reversed_num*10 + last_digit\n",
    "    num = int(num/10)\n",
    "print(reversed_num)"
   ]
  },
  {
   "cell_type": "code",
   "execution_count": null,
   "id": "5a2669b0",
   "metadata": {},
   "outputs": [],
   "source": []
  },
  {
   "cell_type": "code",
   "execution_count": null,
   "id": "4b2d7832",
   "metadata": {},
   "outputs": [],
   "source": []
  }
 ],
 "metadata": {
  "kernelspec": {
   "display_name": "base",
   "language": "python",
   "name": "python3"
  },
  "language_info": {
   "codemirror_mode": {
    "name": "ipython",
    "version": 3
   },
   "file_extension": ".py",
   "mimetype": "text/x-python",
   "name": "python",
   "nbconvert_exporter": "python",
   "pygments_lexer": "ipython3",
   "version": "3.13.5"
  }
 },
 "nbformat": 4,
 "nbformat_minor": 5
}
